{
 "cells": [
  {
   "cell_type": "markdown",
   "metadata": {},
   "source": [
    "# **Convolutional Neural Network (CNN) - Image Classification**\n",
    "\n",
    "---"
   ]
  },
  {
   "cell_type": "markdown",
   "metadata": {},
   "source": [
    "### Directory"
   ]
  },
  {
   "cell_type": "code",
   "execution_count": 1,
   "metadata": {},
   "outputs": [],
   "source": [
    "root_path = \"C:/Red Files/Model/RICE DESEASE DATASET/TTV CLASSES/\" # Windows/PC\n",
    "\n",
    "train_data_dir = root_path + \"Train\" \n",
    "#D:/RICE DESEASE DATASET/TTV CLASSES/Train/\n",
    "valid_data_dir = root_path + \"Validation\" \n",
    "#D:/RICE DESEASE DATASET/TTV CLASSES/Validation/\n",
    "test_data_dir = root_path + \"Test\" \n",
    "#D:/RICE DESEASE DATASET/TTV CLASSES/Test/"
   ]
  },
  {
   "cell_type": "markdown",
   "metadata": {},
   "source": [
    "### Initializations"
   ]
  },
  {
   "cell_type": "code",
   "execution_count": 6,
   "metadata": {},
   "outputs": [],
   "source": [
    "img_height, img_width = (224,224) \n",
    "batch_size = 200\n",
    "epochs_num = 50"
   ]
  },
  {
   "cell_type": "markdown",
   "metadata": {},
   "source": [
    "### Data Augmentation"
   ]
  },
  {
   "cell_type": "code",
   "execution_count": 7,
   "metadata": {},
   "outputs": [
    {
     "name": "stdout",
     "output_type": "stream",
     "text": [
      "Found 7180 images belonging to 9 classes.\n",
      "Found 891 images belonging to 9 classes.\n",
      "Found 891 images belonging to 9 classes.\n"
     ]
    }
   ],
   "source": [
    "\n",
    "from tensorflow import keras\n",
    "from keras.preprocessing.image import ImageDataGenerator\n",
    "from keras.applications.vgg16 import preprocess_input\n",
    "\n",
    "\n",
    "# training ImageDataGenerator\n",
    "train_datagen = ImageDataGenerator(preprocessing_function=preprocess_input, \n",
    "                                   width_shift_range=0.3, \n",
    "                                   fill_mode='reflect',\n",
    "                                   height_shift_range=0.3,\n",
    "                                   brightness_range=(0.1, 0.6),\n",
    "                                   shear_range=45.0,\n",
    "                                   zoom_range=[0.5, 1.5])\n",
    "# Generator from Training Directory\n",
    "train_generator = train_datagen.flow_from_directory(train_data_dir,\n",
    "                                                    target_size=(img_height, img_width),\n",
    "                                                    batch_size=batch_size,\n",
    "                                                    class_mode='categorical',\n",
    "                                                    subset='training') #set as training data\n",
    "\n",
    "# validation ImageDataGenerator\n",
    "valid_datagen = ImageDataGenerator(preprocessing_function=preprocess_input, \n",
    "                                   width_shift_range=0.3, \n",
    "                                   fill_mode='reflect',\n",
    "                                   height_shift_range=0.3,\n",
    "                                   brightness_range=(0.1, 0.6),\n",
    "                                   shear_range=45.0,\n",
    "                                   zoom_range=[0.5, 1.5],\n",
    "                                   validation_split=0.99) \n",
    "# Generator from Validation Directory\n",
    "valid_generator = valid_datagen.flow_from_directory(valid_data_dir,\n",
    "                                                    target_size=(img_height, img_width),\n",
    "                                                    batch_size=batch_size,\n",
    "                                                    class_mode='categorical',\n",
    "                                                    shuffle=False,\n",
    "                                                    subset='validation')#set as validation data\n",
    "\n",
    "# testing ImageDataGenerator\n",
    "test_datagen = ImageDataGenerator(preprocessing_function=preprocess_input, \n",
    "                                   width_shift_range=0.3, \n",
    "                                   fill_mode='reflect',\n",
    "                                   height_shift_range=0.3,\n",
    "                                   brightness_range=(0.1, 0.6),\n",
    "                                   shear_range=45.0,\n",
    "                                   zoom_range=[0.5, 1.5],\n",
    "                                   validation_split=0.99) \n",
    "\n",
    "# Generator from Testing Directory\n",
    "test_generator = test_datagen.flow_from_directory(test_data_dir,\n",
    "                                                    target_size=(img_height, img_width),\n",
    "                                                    batch_size=batch_size, # dati 1 lang nakalagay sa batch - search na lang kung ilan ba dapat batch sa train, valid, at test (kung needba magkakaiba ng batch)\n",
    "                                                    class_mode='categorical',\n",
    "                                                    shuffle=False,\n",
    "                                                    subset='validation') # set as testing data\n"
   ]
  },
  {
   "cell_type": "markdown",
   "metadata": {},
   "source": [
    "Print shapes and number of classes"
   ]
  },
  {
   "cell_type": "code",
   "execution_count": 8,
   "metadata": {},
   "outputs": [
    {
     "name": "stdout",
     "output_type": "stream",
     "text": [
      "Number of Batches per epoch train=36, valid=5 ,test=5\n"
     ]
    }
   ],
   "source": [
    "print('Number of Batches per epoch train=%d, valid=%d ,test=%d' % (len(train_generator), len(valid_generator),len(test_generator)))\n"
   ]
  },
  {
   "cell_type": "code",
   "execution_count": 9,
   "metadata": {},
   "outputs": [],
   "source": [
    "x,y = test_generator.next()"
   ]
  },
  {
   "cell_type": "code",
   "execution_count": 10,
   "metadata": {},
   "outputs": [
    {
     "data": {
      "text/plain": [
       "(200, 224, 224, 3)"
      ]
     },
     "execution_count": 10,
     "metadata": {},
     "output_type": "execute_result"
    }
   ],
   "source": [
    "x.shape"
   ]
  },
  {
   "cell_type": "code",
   "execution_count": 11,
   "metadata": {},
   "outputs": [
    {
     "data": {
      "text/plain": [
       "9"
      ]
     },
     "execution_count": 11,
     "metadata": {},
     "output_type": "execute_result"
    }
   ],
   "source": [
    "train_generator.num_classes"
   ]
  },
  {
   "cell_type": "markdown",
   "metadata": {},
   "source": [
    "### Import Model"
   ]
  },
  {
   "cell_type": "code",
   "execution_count": 12,
   "metadata": {},
   "outputs": [
    {
     "name": "stdout",
     "output_type": "stream",
     "text": [
      "Downloading data from https://storage.googleapis.com/tensorflow/keras-applications/vgg16/vgg16_weights_tf_dim_ordering_tf_kernels_notop.h5\n",
      "58889256/58889256 [==============================] - 22s 0us/step\n"
     ]
    }
   ],
   "source": [
    "\n",
    "# IMPORT MODEL-----------------------------------------------------\n",
    "\n",
    "from keras.applications.vgg16 import VGG16\n",
    "base_model = VGG16(\n",
    "    input_shape=[img_height, img_width] + [3], \n",
    "    weights='imagenet', \n",
    "    include_top=False) \n",
    "#base_model = ResNet50(input_shape = (224, 224, 3), include_top = False, weights = 'imagenet')\n"
   ]
  },
  {
   "cell_type": "markdown",
   "metadata": {},
   "source": [
    "### Layers"
   ]
  },
  {
   "cell_type": "code",
   "execution_count": 14,
   "metadata": {},
   "outputs": [],
   "source": [
    "x = base_model.output\n",
    "\n",
    "from keras.layers import GlobalAveragePooling2D\n",
    "x = GlobalAveragePooling2D()(x)\n",
    "\n",
    "## our layers - you can add more if you want\n",
    "\n",
    "from keras.layers import Flatten\n",
    "x = Flatten()(base_model.output) #added\n",
    "\n",
    "from keras.layers import Dense\n",
    "x = Dense(1024, activation='relu')(x)\n",
    "\n",
    "from keras.layers import Dropout\n",
    "x = Dropout(0.5)(x)\n",
    "\n",
    "x = Dense(512, activation='relu')(x)\n",
    "x = Dropout(0.5)(x)\n",
    "\n",
    "\n",
    "predictions = Dense(train_generator.num_classes, activation='softmax')(x)\n"
   ]
  },
  {
   "cell_type": "markdown",
   "metadata": {},
   "source": [
    "### Create Model"
   ]
  },
  {
   "cell_type": "code",
   "execution_count": 15,
   "metadata": {},
   "outputs": [
    {
     "name": "stdout",
     "output_type": "stream",
     "text": [
      "Model: \"model\"\n",
      "_________________________________________________________________\n",
      " Layer (type)                Output Shape              Param #   \n",
      "=================================================================\n",
      " input_1 (InputLayer)        [(None, 224, 224, 3)]     0         \n",
      "                                                                 \n",
      " block1_conv1 (Conv2D)       (None, 224, 224, 64)      1792      \n",
      "                                                                 \n",
      " block1_conv2 (Conv2D)       (None, 224, 224, 64)      36928     \n",
      "                                                                 \n",
      " block1_pool (MaxPooling2D)  (None, 112, 112, 64)      0         \n",
      "                                                                 \n",
      " block2_conv1 (Conv2D)       (None, 112, 112, 128)     73856     \n",
      "                                                                 \n",
      " block2_conv2 (Conv2D)       (None, 112, 112, 128)     147584    \n",
      "                                                                 \n",
      " block2_pool (MaxPooling2D)  (None, 56, 56, 128)       0         \n",
      "                                                                 \n",
      " block3_conv1 (Conv2D)       (None, 56, 56, 256)       295168    \n",
      "                                                                 \n",
      " block3_conv2 (Conv2D)       (None, 56, 56, 256)       590080    \n",
      "                                                                 \n",
      " block3_conv3 (Conv2D)       (None, 56, 56, 256)       590080    \n",
      "                                                                 \n",
      " block3_pool (MaxPooling2D)  (None, 28, 28, 256)       0         \n",
      "                                                                 \n",
      " block4_conv1 (Conv2D)       (None, 28, 28, 512)       1180160   \n",
      "                                                                 \n",
      " block4_conv2 (Conv2D)       (None, 28, 28, 512)       2359808   \n",
      "                                                                 \n",
      " block4_conv3 (Conv2D)       (None, 28, 28, 512)       2359808   \n",
      "                                                                 \n",
      " block4_pool (MaxPooling2D)  (None, 14, 14, 512)       0         \n",
      "                                                                 \n",
      " block5_conv1 (Conv2D)       (None, 14, 14, 512)       2359808   \n",
      "                                                                 \n",
      " block5_conv2 (Conv2D)       (None, 14, 14, 512)       2359808   \n",
      "                                                                 \n",
      " block5_conv3 (Conv2D)       (None, 14, 14, 512)       2359808   \n",
      "                                                                 \n",
      " block5_pool (MaxPooling2D)  (None, 7, 7, 512)         0         \n",
      "                                                                 \n",
      " flatten_1 (Flatten)         (None, 25088)             0         \n",
      "                                                                 \n",
      " dense_3 (Dense)             (None, 1024)              25691136  \n",
      "                                                                 \n",
      " dropout_2 (Dropout)         (None, 1024)              0         \n",
      "                                                                 \n",
      " dense_4 (Dense)             (None, 512)               524800    \n",
      "                                                                 \n",
      " dropout_3 (Dropout)         (None, 512)               0         \n",
      "                                                                 \n",
      " dense_5 (Dense)             (None, 9)                 4617      \n",
      "                                                                 \n",
      "=================================================================\n",
      "Total params: 40,935,241\n",
      "Trainable params: 26,220,553\n",
      "Non-trainable params: 14,714,688\n",
      "_________________________________________________________________\n"
     ]
    }
   ],
   "source": [
    "\n",
    "from keras.models import Model\n",
    "\n",
    "# create a model object\n",
    "model = Model(inputs=base_model.input, outputs=predictions) #transfer learning model\n",
    "\n",
    "# don't train existing weights\n",
    "for layer in base_model.layers:\n",
    "    layer.trainable = False\n",
    "\n",
    "# tell the model what cost and optimization method to use\n",
    "model.compile(\n",
    "    optimizer='adam', \n",
    "    loss='categorical_crossentropy', \n",
    "    metrics = ['accuracy']\n",
    ")\n",
    "# model.compile(optimizer = Adam(learning_rate=0.000001), loss = 'categorical_crossentropy', metrics = ['accuracy'])\n",
    "\n",
    "# view the structure of the model\n",
    "model.summary()\n",
    "\n"
   ]
  },
  {
   "cell_type": "code",
   "execution_count": 16,
   "metadata": {},
   "outputs": [
    {
     "name": "stdout",
     "output_type": "stream",
     "text": [
      "Epoch 1/50\n",
      " 5/36 [===>..........................] - ETA: 8:42 - loss: 10.1535 - accuracy: 0.2650"
     ]
    },
    {
     "name": "stderr",
     "output_type": "stream",
     "text": [
      "c:\\Red Files\\Model\\env\\lib\\site-packages\\PIL\\Image.py:979: UserWarning: Palette images with Transparency expressed in bytes should be converted to RGBA images\n",
      "  warnings.warn(\n"
     ]
    },
    {
     "name": "stdout",
     "output_type": "stream",
     "text": [
      "36/36 [==============================] - 718s 19s/step - loss: 3.8312 - accuracy: 0.4858 - val_loss: 5.1361 - val_accuracy: 0.5410\n",
      "Epoch 2/50\n",
      "36/36 [==============================] - 755s 21s/step - loss: 1.3009 - accuracy: 0.6411 - val_loss: 4.4898 - val_accuracy: 0.5881\n",
      "Epoch 3/50\n",
      "36/36 [==============================] - 610s 17s/step - loss: 1.0745 - accuracy: 0.6964 - val_loss: 6.0769 - val_accuracy: 0.5724\n",
      "Epoch 4/50\n",
      "36/36 [==============================] - 606s 17s/step - loss: 0.9126 - accuracy: 0.7238 - val_loss: 6.1667 - val_accuracy: 0.5645\n",
      "Epoch 5/50\n",
      "36/36 [==============================] - 664s 18s/step - loss: 0.8405 - accuracy: 0.7501 - val_loss: 5.1307 - val_accuracy: 0.6308\n",
      "Epoch 6/50\n",
      "36/36 [==============================] - 668s 19s/step - loss: 0.8264 - accuracy: 0.7578 - val_loss: 5.2029 - val_accuracy: 0.5993\n",
      "Epoch 7/50\n",
      "36/36 [==============================] - 674s 19s/step - loss: 0.7457 - accuracy: 0.7734 - val_loss: 6.3595 - val_accuracy: 0.5948\n",
      "Epoch 8/50\n",
      "36/36 [==============================] - 684s 19s/step - loss: 0.6680 - accuracy: 0.7975 - val_loss: 5.8313 - val_accuracy: 0.6319\n",
      "Epoch 9/50\n",
      "36/36 [==============================] - 666s 18s/step - loss: 0.6498 - accuracy: 0.8003 - val_loss: 5.5052 - val_accuracy: 0.6061\n",
      "Epoch 10/50\n",
      "36/36 [==============================] - 650s 18s/step - loss: 0.6224 - accuracy: 0.8118 - val_loss: 6.9467 - val_accuracy: 0.6173\n",
      "Epoch 11/50\n",
      "36/36 [==============================] - 642s 18s/step - loss: 0.6000 - accuracy: 0.8130 - val_loss: 6.6816 - val_accuracy: 0.6251\n",
      "Epoch 12/50\n",
      "36/36 [==============================] - 689s 19s/step - loss: 0.5373 - accuracy: 0.8286 - val_loss: 7.1127 - val_accuracy: 0.6274\n",
      "Epoch 13/50\n",
      "36/36 [==============================] - 662s 18s/step - loss: 0.5518 - accuracy: 0.8267 - val_loss: 6.8227 - val_accuracy: 0.6263\n",
      "Epoch 14/50\n",
      "36/36 [==============================] - 695s 19s/step - loss: 0.5290 - accuracy: 0.8326 - val_loss: 7.3666 - val_accuracy: 0.6139\n",
      "Epoch 15/50\n",
      "36/36 [==============================] - 666s 18s/step - loss: 0.5231 - accuracy: 0.8382 - val_loss: 7.4042 - val_accuracy: 0.6083\n",
      "Epoch 16/50\n",
      "36/36 [==============================] - 655s 18s/step - loss: 0.4722 - accuracy: 0.8465 - val_loss: 7.9363 - val_accuracy: 0.6498\n",
      "Epoch 17/50\n",
      "36/36 [==============================] - 659s 18s/step - loss: 0.4838 - accuracy: 0.8504 - val_loss: 7.2122 - val_accuracy: 0.6352\n",
      "Epoch 18/50\n",
      "36/36 [==============================] - 663s 18s/step - loss: 0.4601 - accuracy: 0.8553 - val_loss: 7.7964 - val_accuracy: 0.6139\n",
      "Epoch 19/50\n",
      "36/36 [==============================] - 657s 18s/step - loss: 0.4502 - accuracy: 0.8570 - val_loss: 7.2529 - val_accuracy: 0.6397\n",
      "Epoch 20/50\n",
      "36/36 [==============================] - 657s 18s/step - loss: 0.4190 - accuracy: 0.8659 - val_loss: 7.5176 - val_accuracy: 0.6375\n",
      "Epoch 21/50\n",
      "36/36 [==============================] - 654s 18s/step - loss: 0.4198 - accuracy: 0.8669 - val_loss: 8.7279 - val_accuracy: 0.6061\n",
      "Epoch 22/50\n",
      "36/36 [==============================] - 671s 19s/step - loss: 0.4122 - accuracy: 0.8720 - val_loss: 7.8432 - val_accuracy: 0.6465\n",
      "Epoch 23/50\n",
      "36/36 [==============================] - 656s 18s/step - loss: 0.4047 - accuracy: 0.8716 - val_loss: 7.6578 - val_accuracy: 0.6263\n",
      "Epoch 24/50\n",
      "36/36 [==============================] - 662s 18s/step - loss: 0.4013 - accuracy: 0.8702 - val_loss: 8.1193 - val_accuracy: 0.6038\n",
      "Epoch 25/50\n",
      "36/36 [==============================] - 656s 18s/step - loss: 0.3958 - accuracy: 0.8751 - val_loss: 8.7658 - val_accuracy: 0.6296\n",
      "Epoch 26/50\n",
      "36/36 [==============================] - 656s 18s/step - loss: 0.3852 - accuracy: 0.8752 - val_loss: 7.2934 - val_accuracy: 0.6375\n",
      "Epoch 27/50\n",
      "36/36 [==============================] - 663s 18s/step - loss: 0.3801 - accuracy: 0.8772 - val_loss: 6.9704 - val_accuracy: 0.6274\n",
      "Epoch 28/50\n",
      "36/36 [==============================] - 654s 18s/step - loss: 0.3817 - accuracy: 0.8779 - val_loss: 8.1890 - val_accuracy: 0.6094\n",
      "Epoch 29/50\n",
      "36/36 [==============================] - 658s 18s/step - loss: 0.3714 - accuracy: 0.8812 - val_loss: 8.2056 - val_accuracy: 0.6476\n",
      "Epoch 30/50\n",
      "36/36 [==============================] - 666s 18s/step - loss: 0.3761 - accuracy: 0.8830 - val_loss: 7.8303 - val_accuracy: 0.6195\n",
      "Epoch 31/50\n",
      "36/36 [==============================] - 657s 18s/step - loss: 0.3605 - accuracy: 0.8876 - val_loss: 7.6308 - val_accuracy: 0.6364\n",
      "Epoch 32/50\n",
      "36/36 [==============================] - 653s 18s/step - loss: 0.3553 - accuracy: 0.8854 - val_loss: 9.7996 - val_accuracy: 0.6442\n",
      "Epoch 33/50\n",
      "36/36 [==============================] - 654s 18s/step - loss: 0.3536 - accuracy: 0.8932 - val_loss: 8.6222 - val_accuracy: 0.6296\n",
      "Epoch 34/50\n",
      "36/36 [==============================] - 657s 18s/step - loss: 0.3315 - accuracy: 0.8944 - val_loss: 9.2507 - val_accuracy: 0.6274\n",
      "Epoch 35/50\n",
      "36/36 [==============================] - 657s 18s/step - loss: 0.3318 - accuracy: 0.8955 - val_loss: 9.2142 - val_accuracy: 0.6162\n",
      "Epoch 36/50\n",
      "36/36 [==============================] - 662s 18s/step - loss: 0.3150 - accuracy: 0.8994 - val_loss: 10.9491 - val_accuracy: 0.6386\n",
      "Epoch 37/50\n",
      "36/36 [==============================] - 663s 18s/step - loss: 0.3485 - accuracy: 0.8935 - val_loss: 7.7358 - val_accuracy: 0.6386\n",
      "Epoch 38/50\n",
      "36/36 [==============================] - 658s 18s/step - loss: 0.3384 - accuracy: 0.8932 - val_loss: 7.7824 - val_accuracy: 0.6296\n",
      "Epoch 39/50\n",
      "36/36 [==============================] - 659s 18s/step - loss: 0.3201 - accuracy: 0.8989 - val_loss: 8.9136 - val_accuracy: 0.6431\n",
      "Epoch 40/50\n",
      "36/36 [==============================] - 659s 18s/step - loss: 0.3294 - accuracy: 0.8974 - val_loss: 7.5504 - val_accuracy: 0.6420\n",
      "Epoch 41/50\n",
      "36/36 [==============================] - 653s 18s/step - loss: 0.3432 - accuracy: 0.8975 - val_loss: 8.5075 - val_accuracy: 0.6476\n",
      "Epoch 42/50\n",
      "36/36 [==============================] - 660s 18s/step - loss: 0.3208 - accuracy: 0.8967 - val_loss: 8.6150 - val_accuracy: 0.6543\n",
      "Epoch 43/50\n",
      "36/36 [==============================] - 654s 18s/step - loss: 0.3249 - accuracy: 0.8957 - val_loss: 9.4840 - val_accuracy: 0.6532\n",
      "Epoch 44/50\n",
      "36/36 [==============================] - 653s 18s/step - loss: 0.2953 - accuracy: 0.9047 - val_loss: 7.3502 - val_accuracy: 0.6498\n",
      "Epoch 45/50\n",
      "36/36 [==============================] - 653s 18s/step - loss: 0.3139 - accuracy: 0.8969 - val_loss: 10.1465 - val_accuracy: 0.6487\n",
      "Epoch 46/50\n",
      "36/36 [==============================] - 655s 18s/step - loss: 0.3223 - accuracy: 0.8971 - val_loss: 8.4450 - val_accuracy: 0.6476\n",
      "Epoch 47/50\n",
      "36/36 [==============================] - 649s 18s/step - loss: 0.3077 - accuracy: 0.9057 - val_loss: 8.5467 - val_accuracy: 0.6128\n",
      "Epoch 48/50\n",
      "36/36 [==============================] - 664s 18s/step - loss: 0.3089 - accuracy: 0.9004 - val_loss: 7.8949 - val_accuracy: 0.6431\n",
      "Epoch 49/50\n",
      "36/36 [==============================] - 649s 18s/step - loss: 0.3277 - accuracy: 0.9010 - val_loss: 8.6169 - val_accuracy: 0.6117\n",
      "Epoch 50/50\n",
      "36/36 [==============================] - 653s 18s/step - loss: 0.2912 - accuracy: 0.9054 - val_loss: 8.1168 - val_accuracy: 0.6094\n"
     ]
    }
   ],
   "source": [
    "\n",
    "myModel = model.fit(train_generator,epochs = epochs_num,validation_data = valid_generator)\n",
    "\n",
    "model.save('VGG16-50-epochs.h5')"
   ]
  },
  {
   "cell_type": "markdown",
   "metadata": {},
   "source": [
    "### Visualization"
   ]
  },
  {
   "cell_type": "code",
   "execution_count": 17,
   "metadata": {},
   "outputs": [
    {
     "data": {
      "text/plain": [
       "Text(0.5, 1.0, 'Accuracy')"
      ]
     },
     "execution_count": 17,
     "metadata": {},
     "output_type": "execute_result"
    },
    {
     "data": {
      "image/png": "[encoded data removed]",
      "text/plain": [
       "<Figure size 640x480 with 1 Axes>"
      ]
     },
     "metadata": {},
     "output_type": "display_data"
    }
   ],
   "source": [
    "# Accuracy----------\n",
    "import matplotlib.pyplot as plt\n",
    "\n",
    "plt.plot(myModel.history['accuracy'])\n",
    "plt.plot(myModel.history['val_accuracy'])\n",
    "plt.legend(['training','validation'])\n",
    "plt.title(\"Accuracy\")"
   ]
  },
  {
   "cell_type": "code",
   "execution_count": 18,
   "metadata": {},
   "outputs": [
    {
     "data": {
      "text/plain": [
       "Text(0.5, 1.0, 'Loss')"
      ]
     },
     "execution_count": 18,
     "metadata": {},
     "output_type": "execute_result"
    },
    {
     "data": {
      "image/png": "[encoded data removed]",
      "text/plain": [
       "<Figure size 640x480 with 1 Axes>"
      ]
     },
     "metadata": {},
     "output_type": "display_data"
    }
   ],
   "source": [
    "# LOST-------------\n",
    "plt.plot(myModel.history['loss'])\n",
    "plt.plot(myModel.history['val_loss'])\n",
    "plt.legend(['training','validation'])\n",
    "plt.title(\"Loss\")"
   ]
  },
  {
   "cell_type": "markdown",
   "metadata": {},
   "source": [
    "### Test"
   ]
  },
  {
   "cell_type": "code",
   "execution_count": 19,
   "metadata": {},
   "outputs": [
    {
     "name": "stdout",
     "output_type": "stream",
     "text": [
      "5/5 - 88s - loss: 8.7141 - accuracy: 0.5960 - 88s/epoch - 18s/step\n",
      "\n",
      "Test Loss: 8.714078903198242\n",
      "\n",
      "Test accuracy: 0.5959596037864685\n"
     ]
    }
   ],
   "source": [
    "# TEST-----------------------------------------------------\n",
    "test_loss, test_acc = model.evaluate(test_generator, verbose=2)\n",
    "print('\\nTest Loss:', test_loss)\n",
    "print('\\nTest accuracy:', test_acc)"
   ]
  },
  {
   "cell_type": "code",
   "execution_count": 20,
   "metadata": {},
   "outputs": [
    {
     "name": "stdout",
     "output_type": "stream",
     "text": [
      "Keras weights file (<HDF5 file \"variables.h5\" (mode r+)>) saving:\n",
      "...layers\\conv2d\n",
      "......vars\n",
      ".........0\n",
      ".........1\n",
      "...layers\\conv2d_1\n",
      "......vars\n",
      ".........0\n",
      ".........1\n",
      "...layers\\conv2d_10\n",
      "......vars\n",
      ".........0\n",
      ".........1\n",
      "...layers\\conv2d_11\n",
      "......vars\n",
      ".........0\n",
      ".........1\n",
      "...layers\\conv2d_12\n",
      "......vars\n",
      ".........0\n",
      ".........1\n",
      "...layers\\conv2d_2\n",
      "......vars\n",
      ".........0\n",
      ".........1\n",
      "...layers\\conv2d_3\n",
      "......vars\n",
      ".........0\n",
      ".........1\n",
      "...layers\\conv2d_4\n",
      "......vars\n",
      ".........0\n",
      ".........1\n",
      "...layers\\conv2d_5\n",
      "......vars\n",
      ".........0\n",
      ".........1\n",
      "...layers\\conv2d_6\n",
      "......vars\n",
      ".........0\n",
      ".........1\n",
      "...layers\\conv2d_7\n",
      "......vars\n",
      ".........0\n",
      ".........1\n",
      "...layers\\conv2d_8\n",
      "......vars\n",
      ".........0\n",
      ".........1\n",
      "...layers\\conv2d_9\n",
      "......vars\n",
      ".........0\n",
      ".........1\n",
      "...layers\\dense\n",
      "......vars\n",
      ".........0\n",
      ".........1\n",
      "...layers\\dense_1\n",
      "......vars\n",
      ".........0\n",
      ".........1\n",
      "...layers\\dense_2\n",
      "......vars\n",
      ".........0\n",
      ".........1\n",
      "...layers\\dropout\n",
      "......vars\n",
      "...layers\\dropout_1\n",
      "......vars\n",
      "...layers\\flatten\n",
      "......vars\n",
      "...layers\\input_layer\n",
      "......vars\n",
      "...layers\\max_pooling2d\n",
      "......vars\n",
      "...layers\\max_pooling2d_1\n",
      "......vars\n",
      "...layers\\max_pooling2d_2\n",
      "......vars\n",
      "...layers\\max_pooling2d_3\n",
      "......vars\n",
      "...layers\\max_pooling2d_4\n",
      "......vars\n",
      "...metrics\\mean\n",
      "......vars\n",
      ".........0\n",
      ".........1\n",
      "...metrics\\mean_metric_wrapper\n",
      "......vars\n",
      ".........0\n",
      ".........1\n",
      "...optimizer\n",
      "......vars\n",
      ".........0\n",
      ".........1\n",
      ".........10\n",
      ".........11\n",
      ".........12\n",
      ".........2\n",
      ".........3\n",
      ".........4\n",
      ".........5\n",
      ".........6\n",
      ".........7\n",
      ".........8\n",
      ".........9\n",
      "...vars\n",
      "Keras model archive saving:\n",
      "File Name                                             Modified             Size\n",
      "config.json                                    2022-11-23 08:25:11        12408\n",
      "metadata.json                                  2022-11-23 08:25:11           64\n",
      "variables.h5                                   2022-11-23 08:25:13    373580072\n"
     ]
    }
   ],
   "source": [
    "import pickle\n",
    "\n",
    "# save the model to disk\n",
    "filename = 'VGG16.sav'\n",
    "pickle.dump(model, open(filename, 'wb'))"
   ]
  },
  {
   "cell_type": "code",
   "execution_count": 21,
   "metadata": {},
   "outputs": [
    {
     "name": "stdout",
     "output_type": "stream",
     "text": [
      "Saved model to drive\n"
     ]
    }
   ],
   "source": [
    "model_json = model.to_json()\n",
    "\n",
    "with open(\"VGG16-50-epocs-model.json\", \"w\") as json_file:\n",
    "    json_file.write(model_json)\n",
    "# serialize weights to HDF5\n",
    "model.save_weights(\"VGG16-50-epocs-model_weights.h5\")\n",
    "print(\"Saved model to drive\")"
   ]
  }
 ],
 "metadata": {
  "kernelspec": {
   "display_name": "Python 3.11.0 ('env': venv)",
   "language": "python",
   "name": "python3"
  },
  "language_info": {
   "codemirror_mode": {
    "name": "ipython",
    "version": 3
   },
   "file_extension": ".py",
   "mimetype": "text/x-python",
   "name": "python",
   "nbconvert_exporter": "python",
   "pygments_lexer": "ipython3",
   "version": "3.10.8"
  },
  "orig_nbformat": 4,
  "vscode": {
   "interpreter": {
    "hash": "27138322cec6f6dda2753f2bfabe07a180659987d479e84fec950667ec68d807"
   }
  }
 },
 "nbformat": 4,
 "nbformat_minor": 2
}
