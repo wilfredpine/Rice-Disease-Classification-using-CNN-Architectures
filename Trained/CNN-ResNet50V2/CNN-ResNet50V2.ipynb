{
 "cells": [
  {
   "cell_type": "markdown",
   "metadata": {},
   "source": [
    "# **Convolutional Neural Network (CNN) - Image Classification**\n",
    "\n",
    "---"
   ]
  },
  {
   "cell_type": "markdown",
   "metadata": {},
   "source": [
    "### Directory"
   ]
  },
  {
   "cell_type": "code",
   "execution_count": 1,
   "metadata": {},
   "outputs": [],
   "source": [
    "root_path = \"C:/Red Files/Model/RICE DESEASE DATASET/TTV CLASSES/\" # Windows/PC\n",
    "\n",
    "train_data_dir = root_path + \"Train\" \n",
    "#D:/RICE DESEASE DATASET/TTV CLASSES/Train/\n",
    "valid_data_dir = root_path + \"Validation\" \n",
    "#D:/RICE DESEASE DATASET/TTV CLASSES/Validation/\n",
    "test_data_dir = root_path + \"Test\" \n",
    "#D:/RICE DESEASE DATASET/TTV CLASSES/Test/"
   ]
  },
  {
   "cell_type": "markdown",
   "metadata": {},
   "source": [
    "### Initializations"
   ]
  },
  {
   "cell_type": "code",
   "execution_count": 2,
   "metadata": {},
   "outputs": [],
   "source": [
    "img_height, img_width = (224,224) \n",
    "batch_size = 200\n",
    "epochs_num = 50"
   ]
  },
  {
   "cell_type": "markdown",
   "metadata": {},
   "source": [
    "### Data Augmentation"
   ]
  },
  {
   "cell_type": "code",
   "execution_count": 3,
   "metadata": {},
   "outputs": [
    {
     "name": "stdout",
     "output_type": "stream",
     "text": [
      "Found 7180 images belonging to 9 classes.\n",
      "Found 891 images belonging to 9 classes.\n",
      "Found 891 images belonging to 9 classes.\n"
     ]
    }
   ],
   "source": [
    "\n",
    "from tensorflow import keras\n",
    "from keras.preprocessing.image import ImageDataGenerator\n",
    "from keras.applications.resnet_v2 import preprocess_input\n",
    "\n",
    "\n",
    "# training ImageDataGenerator\n",
    "train_datagen = ImageDataGenerator(preprocessing_function=preprocess_input, \n",
    "                                   width_shift_range=0.3, \n",
    "                                   fill_mode='reflect',\n",
    "                                   height_shift_range=0.3,\n",
    "                                   brightness_range=(0.1, 0.6),\n",
    "                                   shear_range=45.0,\n",
    "                                   zoom_range=[0.5, 1.5])\n",
    "# Generator from Training Directory\n",
    "train_generator = train_datagen.flow_from_directory(train_data_dir,\n",
    "                                                    target_size=(img_height, img_width),\n",
    "                                                    batch_size=batch_size,\n",
    "                                                    class_mode='categorical',\n",
    "                                                    subset='training') #set as training data\n",
    "\n",
    "# validation ImageDataGenerator\n",
    "valid_datagen = ImageDataGenerator(preprocessing_function=preprocess_input, \n",
    "                                   width_shift_range=0.3, \n",
    "                                   fill_mode='reflect',\n",
    "                                   height_shift_range=0.3,\n",
    "                                   brightness_range=(0.1, 0.6),\n",
    "                                   shear_range=45.0,\n",
    "                                   zoom_range=[0.5, 1.5],\n",
    "                                   validation_split=0.99) \n",
    "# Generator from Validation Directory\n",
    "valid_generator = valid_datagen.flow_from_directory(valid_data_dir,\n",
    "                                                    target_size=(img_height, img_width),\n",
    "                                                    batch_size=batch_size,\n",
    "                                                    class_mode='categorical',\n",
    "                                                    shuffle=False,\n",
    "                                                    subset='validation')#set as validation data\n",
    "\n",
    "# testing ImageDataGenerator\n",
    "test_datagen = ImageDataGenerator(preprocessing_function=preprocess_input, \n",
    "                                   width_shift_range=0.3, \n",
    "                                   fill_mode='reflect',\n",
    "                                   height_shift_range=0.3,\n",
    "                                   brightness_range=(0.1, 0.6),\n",
    "                                   shear_range=45.0,\n",
    "                                   zoom_range=[0.5, 1.5],\n",
    "                                   validation_split=0.99) \n",
    "\n",
    "# Generator from Testing Directory\n",
    "test_generator = test_datagen.flow_from_directory(test_data_dir,\n",
    "                                                    target_size=(img_height, img_width),\n",
    "                                                    batch_size=batch_size, # dati 1 lang nakalagay sa batch - search na lang kung ilan ba dapat batch sa train, valid, at test (kung needba magkakaiba ng batch)\n",
    "                                                    class_mode='categorical',\n",
    "                                                    shuffle=False,\n",
    "                                                    subset='validation') # set as testing data\n"
   ]
  },
  {
   "cell_type": "markdown",
   "metadata": {},
   "source": [
    "Print shapes and number of classes"
   ]
  },
  {
   "cell_type": "code",
   "execution_count": 4,
   "metadata": {},
   "outputs": [
    {
     "name": "stdout",
     "output_type": "stream",
     "text": [
      "Number of Batches per epoch train=36, valid=5 ,test=5\n"
     ]
    }
   ],
   "source": [
    "print('Number of Batches per epoch train=%d, valid=%d ,test=%d' % (len(train_generator), len(valid_generator),len(test_generator)))\n"
   ]
  },
  {
   "cell_type": "code",
   "execution_count": 5,
   "metadata": {},
   "outputs": [],
   "source": [
    "x,y = test_generator.next()"
   ]
  },
  {
   "cell_type": "code",
   "execution_count": 6,
   "metadata": {},
   "outputs": [
    {
     "data": {
      "text/plain": [
       "(200, 224, 224, 3)"
      ]
     },
     "execution_count": 6,
     "metadata": {},
     "output_type": "execute_result"
    }
   ],
   "source": [
    "x.shape"
   ]
  },
  {
   "cell_type": "code",
   "execution_count": 7,
   "metadata": {},
   "outputs": [
    {
     "data": {
      "text/plain": [
       "9"
      ]
     },
     "execution_count": 7,
     "metadata": {},
     "output_type": "execute_result"
    }
   ],
   "source": [
    "train_generator.num_classes"
   ]
  },
  {
   "cell_type": "markdown",
   "metadata": {},
   "source": [
    "### Import Model"
   ]
  },
  {
   "cell_type": "code",
   "execution_count": 8,
   "metadata": {},
   "outputs": [],
   "source": [
    "\n",
    "# IMPORT MODEL-----------------------------------------------------\n",
    "\n",
    "from keras.applications.resnet_v2 import ResNet50V2\n",
    "base_model = ResNet50V2(\n",
    "    input_shape=[img_height, img_width] + [3], \n",
    "    weights='imagenet', \n",
    "    include_top=False) \n",
    "#base_model = ResNet50(input_shape = (224, 224, 3), include_top = False, weights = 'imagenet')\n"
   ]
  },
  {
   "cell_type": "markdown",
   "metadata": {},
   "source": [
    "### Layers"
   ]
  },
  {
   "cell_type": "code",
   "execution_count": 9,
   "metadata": {},
   "outputs": [],
   "source": [
    "x = base_model.output\n",
    "\n",
    "from keras.layers import GlobalAveragePooling2D\n",
    "x = GlobalAveragePooling2D()(x)\n",
    "\n",
    "## our layers - you can add more if you want\n",
    "\n",
    "from keras.layers import Flatten\n",
    "x = Flatten()(base_model.output) #added\n",
    "\n",
    "from keras.layers import Dense\n",
    "x = Dense(1024, activation='relu')(x)\n",
    "\n",
    "from keras.layers import Dropout\n",
    "x = Dropout(0.5)(x)\n",
    "\n",
    "x = Dense(512, activation='relu')(x)\n",
    "x = Dropout(0.5)(x)\n",
    "\n",
    "\n",
    "predictions = Dense(train_generator.num_classes, activation='softmax')(x)\n"
   ]
  },
  {
   "cell_type": "markdown",
   "metadata": {},
   "source": [
    "### Create Model"
   ]
  },
  {
   "cell_type": "code",
   "execution_count": 10,
   "metadata": {},
   "outputs": [
    {
     "name": "stdout",
     "output_type": "stream",
     "text": [
      "Epoch 1/50\n",
      "17/36 [=============>................] - ETA: 2:49 - loss: 7.1941 - accuracy: 0.4077"
     ]
    },
    {
     "name": "stderr",
     "output_type": "stream",
     "text": [
      "c:\\Red Files\\Model\\env\\lib\\site-packages\\PIL\\Image.py:979: UserWarning: Palette images with Transparency expressed in bytes should be converted to RGBA images\n",
      "  warnings.warn(\n"
     ]
    },
    {
     "name": "stdout",
     "output_type": "stream",
     "text": [
      "36/36 [==============================] - 383s 10s/step - loss: 4.4930 - accuracy: 0.4983 - val_loss: 10.2929 - val_accuracy: 0.5612\n",
      "Epoch 2/50\n",
      "36/36 [==============================] - 372s 10s/step - loss: 1.2512 - accuracy: 0.6503 - val_loss: 10.8657 - val_accuracy: 0.5634\n",
      "Epoch 3/50\n",
      "36/36 [==============================] - 371s 10s/step - loss: 0.9840 - accuracy: 0.7104 - val_loss: 10.3164 - val_accuracy: 0.5735\n",
      "Epoch 4/50\n",
      "36/36 [==============================] - 372s 10s/step - loss: 0.8888 - accuracy: 0.7383 - val_loss: 10.1960 - val_accuracy: 0.5993\n",
      "Epoch 5/50\n",
      "36/36 [==============================] - 370s 10s/step - loss: 0.8558 - accuracy: 0.7568 - val_loss: 10.1888 - val_accuracy: 0.6072\n",
      "Epoch 6/50\n",
      "36/36 [==============================] - 372s 10s/step - loss: 0.7886 - accuracy: 0.7701 - val_loss: 10.0654 - val_accuracy: 0.5836\n",
      "Epoch 7/50\n",
      "36/36 [==============================] - 371s 10s/step - loss: 0.7481 - accuracy: 0.7740 - val_loss: 10.1209 - val_accuracy: 0.6004\n",
      "Epoch 8/50\n",
      "36/36 [==============================] - 373s 10s/step - loss: 0.7374 - accuracy: 0.7981 - val_loss: 10.6341 - val_accuracy: 0.6083\n",
      "Epoch 9/50\n",
      "36/36 [==============================] - 373s 10s/step - loss: 0.6441 - accuracy: 0.8038 - val_loss: 10.6696 - val_accuracy: 0.5814\n",
      "Epoch 10/50\n",
      "36/36 [==============================] - 371s 10s/step - loss: 0.6683 - accuracy: 0.8138 - val_loss: 11.3575 - val_accuracy: 0.6184\n",
      "Epoch 11/50\n",
      "36/36 [==============================] - 375s 10s/step - loss: 0.6699 - accuracy: 0.8006 - val_loss: 10.5460 - val_accuracy: 0.6105\n",
      "Epoch 12/50\n",
      "36/36 [==============================] - 373s 10s/step - loss: 0.6215 - accuracy: 0.8208 - val_loss: 11.6421 - val_accuracy: 0.5926\n",
      "Epoch 13/50\n",
      "36/36 [==============================] - 373s 10s/step - loss: 0.5998 - accuracy: 0.8265 - val_loss: 10.0706 - val_accuracy: 0.6229\n",
      "Epoch 14/50\n",
      "36/36 [==============================] - 372s 10s/step - loss: 0.5925 - accuracy: 0.8256 - val_loss: 11.8614 - val_accuracy: 0.6352\n",
      "Epoch 15/50\n",
      "36/36 [==============================] - 372s 10s/step - loss: 0.5302 - accuracy: 0.8364 - val_loss: 9.7590 - val_accuracy: 0.6543\n",
      "Epoch 16/50\n",
      "36/36 [==============================] - 373s 10s/step - loss: 0.5201 - accuracy: 0.8475 - val_loss: 11.1452 - val_accuracy: 0.6487\n",
      "Epoch 17/50\n",
      "36/36 [==============================] - 375s 10s/step - loss: 0.5207 - accuracy: 0.8437 - val_loss: 10.9361 - val_accuracy: 0.6207\n",
      "Epoch 18/50\n",
      "36/36 [==============================] - 374s 10s/step - loss: 0.4853 - accuracy: 0.8497 - val_loss: 10.1220 - val_accuracy: 0.6364\n",
      "Epoch 19/50\n",
      "36/36 [==============================] - 371s 10s/step - loss: 0.4621 - accuracy: 0.8585 - val_loss: 12.8913 - val_accuracy: 0.6049\n",
      "Epoch 20/50\n",
      "36/36 [==============================] - 374s 10s/step - loss: 0.4709 - accuracy: 0.8563 - val_loss: 11.8115 - val_accuracy: 0.6195\n",
      "Epoch 21/50\n",
      "36/36 [==============================] - 372s 10s/step - loss: 0.4238 - accuracy: 0.8677 - val_loss: 12.3688 - val_accuracy: 0.6319\n",
      "Epoch 22/50\n",
      "36/36 [==============================] - 377s 10s/step - loss: 0.4237 - accuracy: 0.8720 - val_loss: 11.2149 - val_accuracy: 0.6296\n",
      "Epoch 23/50\n",
      "36/36 [==============================] - 374s 10s/step - loss: 0.4189 - accuracy: 0.8776 - val_loss: 9.7691 - val_accuracy: 0.6409\n",
      "Epoch 24/50\n",
      "36/36 [==============================] - 371s 10s/step - loss: 0.3968 - accuracy: 0.8773 - val_loss: 8.6957 - val_accuracy: 0.6397\n",
      "Epoch 25/50\n",
      "36/36 [==============================] - 375s 10s/step - loss: 0.3931 - accuracy: 0.8801 - val_loss: 10.9320 - val_accuracy: 0.6364\n",
      "Epoch 26/50\n",
      "36/36 [==============================] - 370s 10s/step - loss: 0.3961 - accuracy: 0.8791 - val_loss: 9.3593 - val_accuracy: 0.6308\n",
      "Epoch 27/50\n",
      "36/36 [==============================] - 370s 10s/step - loss: 0.3946 - accuracy: 0.8847 - val_loss: 9.2039 - val_accuracy: 0.6431\n",
      "Epoch 28/50\n",
      "36/36 [==============================] - 371s 10s/step - loss: 0.3835 - accuracy: 0.8806 - val_loss: 13.8683 - val_accuracy: 0.6308\n",
      "Epoch 29/50\n",
      "36/36 [==============================] - 372s 10s/step - loss: 0.3569 - accuracy: 0.8908 - val_loss: 8.9841 - val_accuracy: 0.6498\n",
      "Epoch 30/50\n",
      "36/36 [==============================] - 371s 10s/step - loss: 0.3665 - accuracy: 0.8861 - val_loss: 8.7983 - val_accuracy: 0.6521\n",
      "Epoch 31/50\n",
      "36/36 [==============================] - 371s 10s/step - loss: 0.3608 - accuracy: 0.8891 - val_loss: 11.5940 - val_accuracy: 0.6263\n",
      "Epoch 32/50\n",
      "36/36 [==============================] - 371s 10s/step - loss: 0.3633 - accuracy: 0.8886 - val_loss: 10.5083 - val_accuracy: 0.6532\n",
      "Epoch 33/50\n",
      "36/36 [==============================] - 372s 10s/step - loss: 0.3404 - accuracy: 0.8908 - val_loss: 12.8017 - val_accuracy: 0.6251\n",
      "Epoch 34/50\n",
      "36/36 [==============================] - 371s 10s/step - loss: 0.3563 - accuracy: 0.8909 - val_loss: 11.2786 - val_accuracy: 0.6453\n",
      "Epoch 35/50\n",
      "36/36 [==============================] - 371s 10s/step - loss: 0.3329 - accuracy: 0.8925 - val_loss: 10.8393 - val_accuracy: 0.6521\n",
      "Epoch 36/50\n",
      "36/36 [==============================] - 371s 10s/step - loss: 0.3359 - accuracy: 0.8996 - val_loss: 12.6218 - val_accuracy: 0.6409\n",
      "Epoch 37/50\n",
      "36/36 [==============================] - 371s 10s/step - loss: 0.3463 - accuracy: 0.8948 - val_loss: 14.2716 - val_accuracy: 0.6532\n",
      "Epoch 38/50\n",
      "36/36 [==============================] - 371s 10s/step - loss: 0.3314 - accuracy: 0.8943 - val_loss: 14.4230 - val_accuracy: 0.6510\n",
      "Epoch 39/50\n",
      "36/36 [==============================] - 378s 10s/step - loss: 0.3209 - accuracy: 0.9022 - val_loss: 11.8145 - val_accuracy: 0.6532\n",
      "Epoch 40/50\n",
      "36/36 [==============================] - 372s 10s/step - loss: 0.3166 - accuracy: 0.9028 - val_loss: 12.1597 - val_accuracy: 0.6453\n",
      "Epoch 41/50\n",
      "36/36 [==============================] - 373s 10s/step - loss: 0.3005 - accuracy: 0.9077 - val_loss: 11.9596 - val_accuracy: 0.6521\n",
      "Epoch 42/50\n",
      "36/36 [==============================] - 370s 10s/step - loss: 0.3172 - accuracy: 0.8983 - val_loss: 15.3586 - val_accuracy: 0.6442\n",
      "Epoch 43/50\n",
      "36/36 [==============================] - 372s 10s/step - loss: 0.3114 - accuracy: 0.9046 - val_loss: 13.6165 - val_accuracy: 0.6487\n",
      "Epoch 44/50\n",
      "36/36 [==============================] - 372s 10s/step - loss: 0.3069 - accuracy: 0.9074 - val_loss: 11.7819 - val_accuracy: 0.6240\n",
      "Epoch 45/50\n",
      "36/36 [==============================] - 370s 10s/step - loss: 0.3066 - accuracy: 0.9049 - val_loss: 13.5883 - val_accuracy: 0.6229\n",
      "Epoch 46/50\n",
      "36/36 [==============================] - 372s 10s/step - loss: 0.3080 - accuracy: 0.9089 - val_loss: 12.3591 - val_accuracy: 0.6465\n",
      "Epoch 47/50\n",
      "36/36 [==============================] - 370s 10s/step - loss: 0.2976 - accuracy: 0.9075 - val_loss: 13.5185 - val_accuracy: 0.6532\n",
      "Epoch 48/50\n",
      "36/36 [==============================] - 372s 10s/step - loss: 0.2831 - accuracy: 0.9114 - val_loss: 12.6755 - val_accuracy: 0.6633\n",
      "Epoch 49/50\n",
      "36/36 [==============================] - 374s 10s/step - loss: 0.3063 - accuracy: 0.9086 - val_loss: 13.5897 - val_accuracy: 0.6274\n",
      "Epoch 50/50\n",
      "36/36 [==============================] - 377s 10s/step - loss: 0.2901 - accuracy: 0.9077 - val_loss: 14.8925 - val_accuracy: 0.6195\n"
     ]
    }
   ],
   "source": [
    "\n",
    "from keras.models import Model\n",
    "\n",
    "# create a model object\n",
    "model = Model(inputs=base_model.input, outputs=predictions) #transfer learning model\n",
    "\n",
    "# don't train existing weights\n",
    "for layer in base_model.layers:\n",
    "    layer.trainable = False\n",
    "\n",
    "# tell the model what cost and optimization method to use\n",
    "model.compile(\n",
    "    optimizer='adam', \n",
    "    loss='categorical_crossentropy', \n",
    "    metrics = ['accuracy']\n",
    ")\n",
    "# model.compile(optimizer = Adam(learning_rate=0.000001), loss = 'categorical_crossentropy', metrics = ['accuracy'])\n",
    "\n",
    "# view the structure of the model\n",
    "# model.summary()\n",
    "\n",
    "myModel = model.fit(train_generator,epochs = epochs_num,validation_data = valid_generator)\n",
    "\n",
    "model.save('ResNet50V2-50-epochs.h5')\n"
   ]
  },
  {
   "cell_type": "markdown",
   "metadata": {},
   "source": [
    "### Visualization"
   ]
  },
  {
   "cell_type": "code",
   "execution_count": 11,
   "metadata": {},
   "outputs": [
    {
     "data": {
      "text/plain": [
       "Text(0.5, 1.0, 'Accuracy')"
      ]
     },
     "execution_count": 11,
     "metadata": {},
     "output_type": "execute_result"
    },
    {
     "data": {
      "image/png": "[encoded data removed]",
      "text/plain": [
       "<Figure size 640x480 with 1 Axes>"
      ]
     },
     "metadata": {},
     "output_type": "display_data"
    }
   ],
   "source": [
    "# Accuracy----------\n",
    "import matplotlib.pyplot as plt\n",
    "\n",
    "plt.plot(myModel.history['accuracy'])\n",
    "plt.plot(myModel.history['val_accuracy'])\n",
    "plt.legend(['training','validation'])\n",
    "plt.title(\"Accuracy\")"
   ]
  },
  {
   "cell_type": "code",
   "execution_count": 12,
   "metadata": {},
   "outputs": [
    {
     "data": {
      "text/plain": [
       "Text(0.5, 1.0, 'Loss')"
      ]
     },
     "execution_count": 12,
     "metadata": {},
     "output_type": "execute_result"
    },
    {
     "data": {
      "image/png": "[encoded data removed]",
      "text/plain": [
       "<Figure size 640x480 with 1 Axes>"
      ]
     },
     "metadata": {},
     "output_type": "display_data"
    }
   ],
   "source": [
    "# LOST-------------\n",
    "plt.plot(myModel.history['loss'])\n",
    "plt.plot(myModel.history['val_loss'])\n",
    "plt.legend(['training','validation'])\n",
    "plt.title(\"Loss\")"
   ]
  },
  {
   "cell_type": "markdown",
   "metadata": {},
   "source": [
    "### Test"
   ]
  },
  {
   "cell_type": "code",
   "execution_count": 14,
   "metadata": {},
   "outputs": [
    {
     "name": "stdout",
     "output_type": "stream",
     "text": [
      "5/5 - 48s - loss: 17.3907 - accuracy: 0.5937 - 48s/epoch - 10s/step\n",
      "\n",
      "Test Loss: 17.390724182128906\n",
      "\n",
      "Test accuracy: 0.5937149524688721\n"
     ]
    }
   ],
   "source": [
    "# TEST-----------------------------------------------------\n",
    "test_loss, test_acc = model.evaluate(test_generator, verbose=2)\n",
    "print('\\nTest Loss:', test_loss)\n",
    "print('\\nTest accuracy:', test_acc)"
   ]
  }
 ],
 "metadata": {
  "kernelspec": {
   "display_name": "Python 3.11.0 ('env': venv)",
   "language": "python",
   "name": "python3"
  },
  "language_info": {
   "codemirror_mode": {
    "name": "ipython",
    "version": 3
   },
   "file_extension": ".py",
   "mimetype": "text/x-python",
   "name": "python",
   "nbconvert_exporter": "python",
   "pygments_lexer": "ipython3",
   "version": "3.10.8"
  },
  "orig_nbformat": 4,
  "vscode": {
   "interpreter": {
    "hash": "27138322cec6f6dda2753f2bfabe07a180659987d479e84fec950667ec68d807"
   }
  }
 },
 "nbformat": 4,
 "nbformat_minor": 2
}
