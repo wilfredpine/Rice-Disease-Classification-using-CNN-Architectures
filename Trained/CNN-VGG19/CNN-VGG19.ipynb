{
 "cells": [
  {
   "cell_type": "markdown",
   "metadata": {},
   "source": [
    "# **Convolutional Neural Network (CNN) - Image Classification**\n",
    "\n",
    "---"
   ]
  },
  {
   "cell_type": "markdown",
   "metadata": {},
   "source": [
    "### Directory"
   ]
  },
  {
   "cell_type": "code",
   "execution_count": 1,
   "metadata": {},
   "outputs": [],
   "source": [
    "root_path = \"C:/Red Files/Model/RICE DESEASE DATASET/TTV CLASSES/\" # Windows/PC\n",
    "\n",
    "train_data_dir = root_path + \"Train\" \n",
    "#D:/RICE DESEASE DATASET/TTV CLASSES/Train/\n",
    "valid_data_dir = root_path + \"Validation\" \n",
    "#D:/RICE DESEASE DATASET/TTV CLASSES/Validation/\n",
    "test_data_dir = root_path + \"Test\" \n",
    "#D:/RICE DESEASE DATASET/TTV CLASSES/Test/"
   ]
  },
  {
   "cell_type": "markdown",
   "metadata": {},
   "source": [
    "### Initializations"
   ]
  },
  {
   "cell_type": "code",
   "execution_count": 2,
   "metadata": {},
   "outputs": [],
   "source": [
    "img_height, img_width = (224,224) \n",
    "batch_size = 200\n",
    "epochs_num = 50"
   ]
  },
  {
   "cell_type": "markdown",
   "metadata": {},
   "source": [
    "### Data Augmentation"
   ]
  },
  {
   "cell_type": "code",
   "execution_count": 3,
   "metadata": {},
   "outputs": [
    {
     "name": "stdout",
     "output_type": "stream",
     "text": [
      "Found 7180 images belonging to 9 classes.\n",
      "Found 891 images belonging to 9 classes.\n",
      "Found 891 images belonging to 9 classes.\n"
     ]
    }
   ],
   "source": [
    "\n",
    "from tensorflow import keras\n",
    "from keras.preprocessing.image import ImageDataGenerator\n",
    "from keras.applications.vgg19 import preprocess_input\n",
    "\n",
    "\n",
    "# training ImageDataGenerator\n",
    "train_datagen = ImageDataGenerator(preprocessing_function=preprocess_input, \n",
    "                                   width_shift_range=0.3, \n",
    "                                   fill_mode='reflect',\n",
    "                                   height_shift_range=0.3,\n",
    "                                   brightness_range=(0.1, 0.6),\n",
    "                                   shear_range=45.0,\n",
    "                                   zoom_range=[0.5, 1.5])\n",
    "# Generator from Training Directory\n",
    "train_generator = train_datagen.flow_from_directory(train_data_dir,\n",
    "                                                    target_size=(img_height, img_width),\n",
    "                                                    batch_size=batch_size,\n",
    "                                                    class_mode='categorical',\n",
    "                                                    subset='training') #set as training data\n",
    "\n",
    "# validation ImageDataGenerator\n",
    "valid_datagen = ImageDataGenerator(preprocessing_function=preprocess_input, \n",
    "                                   width_shift_range=0.3, \n",
    "                                   fill_mode='reflect',\n",
    "                                   height_shift_range=0.3,\n",
    "                                   brightness_range=(0.1, 0.6),\n",
    "                                   shear_range=45.0,\n",
    "                                   zoom_range=[0.5, 1.5],\n",
    "                                   validation_split=0.99) \n",
    "# Generator from Validation Directory\n",
    "valid_generator = valid_datagen.flow_from_directory(valid_data_dir,\n",
    "                                                    target_size=(img_height, img_width),\n",
    "                                                    batch_size=batch_size,\n",
    "                                                    class_mode='categorical',\n",
    "                                                    shuffle=False,\n",
    "                                                    subset='validation')#set as validation data\n",
    "\n",
    "# testing ImageDataGenerator\n",
    "test_datagen = ImageDataGenerator(preprocessing_function=preprocess_input, \n",
    "                                   width_shift_range=0.3, \n",
    "                                   fill_mode='reflect',\n",
    "                                   height_shift_range=0.3,\n",
    "                                   brightness_range=(0.1, 0.6),\n",
    "                                   shear_range=45.0,\n",
    "                                   zoom_range=[0.5, 1.5],\n",
    "                                   validation_split=0.99) \n",
    "\n",
    "# Generator from Testing Directory\n",
    "test_generator = test_datagen.flow_from_directory(test_data_dir,\n",
    "                                                    target_size=(img_height, img_width),\n",
    "                                                    batch_size=batch_size, # dati 1 lang nakalagay sa batch - search na lang kung ilan ba dapat batch sa train, valid, at test (kung needba magkakaiba ng batch)\n",
    "                                                    class_mode='categorical',\n",
    "                                                    shuffle=False,\n",
    "                                                    subset='validation') # set as testing data\n"
   ]
  },
  {
   "cell_type": "markdown",
   "metadata": {},
   "source": [
    "Print shapes and number of classes"
   ]
  },
  {
   "cell_type": "code",
   "execution_count": 4,
   "metadata": {},
   "outputs": [
    {
     "name": "stdout",
     "output_type": "stream",
     "text": [
      "Number of Batches per epoch train=36, valid=5 ,test=5\n"
     ]
    }
   ],
   "source": [
    "print('Number of Batches per epoch train=%d, valid=%d ,test=%d' % (len(train_generator), len(valid_generator),len(test_generator)))\n"
   ]
  },
  {
   "cell_type": "code",
   "execution_count": 5,
   "metadata": {},
   "outputs": [],
   "source": [
    "x,y = test_generator.next()"
   ]
  },
  {
   "cell_type": "code",
   "execution_count": 6,
   "metadata": {},
   "outputs": [
    {
     "data": {
      "text/plain": [
       "(200, 224, 224, 3)"
      ]
     },
     "execution_count": 6,
     "metadata": {},
     "output_type": "execute_result"
    }
   ],
   "source": [
    "x.shape"
   ]
  },
  {
   "cell_type": "code",
   "execution_count": 8,
   "metadata": {},
   "outputs": [
    {
     "data": {
      "text/plain": [
       "9"
      ]
     },
     "execution_count": 8,
     "metadata": {},
     "output_type": "execute_result"
    }
   ],
   "source": [
    "train_generator.num_classes"
   ]
  },
  {
   "cell_type": "markdown",
   "metadata": {},
   "source": [
    "### Import Model"
   ]
  },
  {
   "cell_type": "code",
   "execution_count": 9,
   "metadata": {},
   "outputs": [
    {
     "name": "stdout",
     "output_type": "stream",
     "text": [
      "Downloading data from https://storage.googleapis.com/tensorflow/keras-applications/vgg19/vgg19_weights_tf_dim_ordering_tf_kernels_notop.h5\n",
      "80134624/80134624 [==============================] - 33s 0us/step\n"
     ]
    }
   ],
   "source": [
    "\n",
    "# IMPORT MODEL-----------------------------------------------------\n",
    "\n",
    "from keras.applications.vgg19 import VGG19\n",
    "base_model = VGG19(\n",
    "    input_shape=[img_height, img_width] + [3], \n",
    "    weights='imagenet', \n",
    "    include_top=False) \n",
    "#base_model = ResNet50(input_shape = (224, 224, 3), include_top = False, weights = 'imagenet')\n"
   ]
  },
  {
   "cell_type": "markdown",
   "metadata": {},
   "source": [
    "### Layers"
   ]
  },
  {
   "cell_type": "code",
   "execution_count": 10,
   "metadata": {},
   "outputs": [],
   "source": [
    "x = base_model.output\n",
    "\n",
    "from keras.layers import GlobalAveragePooling2D\n",
    "x = GlobalAveragePooling2D()(x)\n",
    "\n",
    "## our layers - you can add more if you want\n",
    "\n",
    "from keras.layers import Flatten\n",
    "x = Flatten()(base_model.output) #added\n",
    "\n",
    "from keras.layers import Dense\n",
    "x = Dense(1024, activation='relu')(x)\n",
    "\n",
    "from keras.layers import Dropout\n",
    "x = Dropout(0.5)(x)\n",
    "\n",
    "x = Dense(512, activation='relu')(x)\n",
    "x = Dropout(0.5)(x)\n",
    "\n",
    "\n",
    "predictions = Dense(train_generator.num_classes, activation='softmax')(x)\n"
   ]
  },
  {
   "cell_type": "markdown",
   "metadata": {},
   "source": [
    "### Create Model"
   ]
  },
  {
   "cell_type": "code",
   "execution_count": 11,
   "metadata": {},
   "outputs": [
    {
     "name": "stdout",
     "output_type": "stream",
     "text": [
      "Model: \"model\"\n",
      "_________________________________________________________________\n",
      " Layer (type)                Output Shape              Param #   \n",
      "=================================================================\n",
      " input_1 (InputLayer)        [(None, 224, 224, 3)]     0         \n",
      "                                                                 \n",
      " block1_conv1 (Conv2D)       (None, 224, 224, 64)      1792      \n",
      "                                                                 \n",
      " block1_conv2 (Conv2D)       (None, 224, 224, 64)      36928     \n",
      "                                                                 \n",
      " block1_pool (MaxPooling2D)  (None, 112, 112, 64)      0         \n",
      "                                                                 \n",
      " block2_conv1 (Conv2D)       (None, 112, 112, 128)     73856     \n",
      "                                                                 \n",
      " block2_conv2 (Conv2D)       (None, 112, 112, 128)     147584    \n",
      "                                                                 \n",
      " block2_pool (MaxPooling2D)  (None, 56, 56, 128)       0         \n",
      "                                                                 \n",
      " block3_conv1 (Conv2D)       (None, 56, 56, 256)       295168    \n",
      "                                                                 \n",
      " block3_conv2 (Conv2D)       (None, 56, 56, 256)       590080    \n",
      "                                                                 \n",
      " block3_conv3 (Conv2D)       (None, 56, 56, 256)       590080    \n",
      "                                                                 \n",
      " block3_conv4 (Conv2D)       (None, 56, 56, 256)       590080    \n",
      "                                                                 \n",
      " block3_pool (MaxPooling2D)  (None, 28, 28, 256)       0         \n",
      "                                                                 \n",
      " block4_conv1 (Conv2D)       (None, 28, 28, 512)       1180160   \n",
      "                                                                 \n",
      " block4_conv2 (Conv2D)       (None, 28, 28, 512)       2359808   \n",
      "                                                                 \n",
      " block4_conv3 (Conv2D)       (None, 28, 28, 512)       2359808   \n",
      "                                                                 \n",
      " block4_conv4 (Conv2D)       (None, 28, 28, 512)       2359808   \n",
      "                                                                 \n",
      " block4_pool (MaxPooling2D)  (None, 14, 14, 512)       0         \n",
      "                                                                 \n",
      " block5_conv1 (Conv2D)       (None, 14, 14, 512)       2359808   \n",
      "                                                                 \n",
      " block5_conv2 (Conv2D)       (None, 14, 14, 512)       2359808   \n",
      "                                                                 \n",
      " block5_conv3 (Conv2D)       (None, 14, 14, 512)       2359808   \n",
      "                                                                 \n",
      " block5_conv4 (Conv2D)       (None, 14, 14, 512)       2359808   \n",
      "                                                                 \n",
      " block5_pool (MaxPooling2D)  (None, 7, 7, 512)         0         \n",
      "                                                                 \n",
      " flatten (Flatten)           (None, 25088)             0         \n",
      "                                                                 \n",
      " dense (Dense)               (None, 1024)              25691136  \n",
      "                                                                 \n",
      " dropout (Dropout)           (None, 1024)              0         \n",
      "                                                                 \n",
      " dense_1 (Dense)             (None, 512)               524800    \n",
      "                                                                 \n",
      " dropout_1 (Dropout)         (None, 512)               0         \n",
      "                                                                 \n",
      " dense_2 (Dense)             (None, 9)                 4617      \n",
      "                                                                 \n",
      "=================================================================\n",
      "Total params: 46,244,937\n",
      "Trainable params: 26,220,553\n",
      "Non-trainable params: 20,024,384\n",
      "_________________________________________________________________\n"
     ]
    }
   ],
   "source": [
    "\n",
    "from keras.models import Model\n",
    "\n",
    "# create a model object\n",
    "model = Model(inputs=base_model.input, outputs=predictions) #transfer learning model\n",
    "\n",
    "# don't train existing weights\n",
    "for layer in base_model.layers:\n",
    "    layer.trainable = False\n",
    "\n",
    "# tell the model what cost and optimization method to use\n",
    "model.compile(\n",
    "    optimizer='adam', \n",
    "    loss='categorical_crossentropy', \n",
    "    metrics = ['accuracy']\n",
    ")\n",
    "# model.compile(optimizer = Adam(learning_rate=0.000001), loss = 'categorical_crossentropy', metrics = ['accuracy'])\n",
    "\n",
    "# view the structure of the model\n",
    "model.summary()\n",
    "\n"
   ]
  },
  {
   "cell_type": "code",
   "execution_count": 12,
   "metadata": {},
   "outputs": [
    {
     "name": "stdout",
     "output_type": "stream",
     "text": [
      "Epoch 1/50\n",
      "17/36 [=============>................] - ETA: 6:17 - loss: 7.1564 - accuracy: 0.3759"
     ]
    },
    {
     "name": "stderr",
     "output_type": "stream",
     "text": [
      "c:\\Red Files\\Model\\env\\lib\\site-packages\\PIL\\Image.py:979: UserWarning: Palette images with Transparency expressed in bytes should be converted to RGBA images\n",
      "  warnings.warn(\n"
     ]
    },
    {
     "name": "stdout",
     "output_type": "stream",
     "text": [
      "36/36 [==============================] - 836s 22s/step - loss: 4.4124 - accuracy: 0.4692 - val_loss: 5.0263 - val_accuracy: 0.5174\n",
      "Epoch 2/50\n",
      "36/36 [==============================] - 761s 21s/step - loss: 1.2247 - accuracy: 0.6430 - val_loss: 4.7152 - val_accuracy: 0.5780\n",
      "Epoch 3/50\n",
      "36/36 [==============================] - 768s 21s/step - loss: 1.0111 - accuracy: 0.6901 - val_loss: 5.2263 - val_accuracy: 0.5881\n",
      "Epoch 4/50\n",
      "36/36 [==============================] - 763s 21s/step - loss: 0.8799 - accuracy: 0.7318 - val_loss: 5.1998 - val_accuracy: 0.6150\n",
      "Epoch 5/50\n",
      "36/36 [==============================] - 759s 21s/step - loss: 0.8364 - accuracy: 0.7532 - val_loss: 5.4964 - val_accuracy: 0.5892\n",
      "Epoch 6/50\n",
      "36/36 [==============================] - 759s 21s/step - loss: 0.7561 - accuracy: 0.7714 - val_loss: 5.9383 - val_accuracy: 0.6195\n",
      "Epoch 7/50\n",
      "36/36 [==============================] - 760s 21s/step - loss: 0.7455 - accuracy: 0.7716 - val_loss: 5.6176 - val_accuracy: 0.5982\n",
      "Epoch 8/50\n",
      "36/36 [==============================] - 762s 21s/step - loss: 0.6886 - accuracy: 0.7921 - val_loss: 7.0704 - val_accuracy: 0.6016\n",
      "Epoch 9/50\n",
      "36/36 [==============================] - 777s 21s/step - loss: 0.6604 - accuracy: 0.8019 - val_loss: 6.0467 - val_accuracy: 0.6431\n",
      "Epoch 10/50\n",
      "36/36 [==============================] - 757s 21s/step - loss: 0.6259 - accuracy: 0.8084 - val_loss: 6.6559 - val_accuracy: 0.6263\n",
      "Epoch 11/50\n",
      "36/36 [==============================] - 759s 21s/step - loss: 0.5941 - accuracy: 0.8184 - val_loss: 6.5249 - val_accuracy: 0.6128\n",
      "Epoch 12/50\n",
      "36/36 [==============================] - 760s 21s/step - loss: 0.5512 - accuracy: 0.8315 - val_loss: 6.4458 - val_accuracy: 0.6510\n",
      "Epoch 13/50\n",
      "36/36 [==============================] - 760s 21s/step - loss: 0.5522 - accuracy: 0.8297 - val_loss: 7.9806 - val_accuracy: 0.6341\n",
      "Epoch 14/50\n",
      "36/36 [==============================] - 778s 22s/step - loss: 0.5538 - accuracy: 0.8265 - val_loss: 7.6396 - val_accuracy: 0.6319\n",
      "Epoch 15/50\n",
      "36/36 [==============================] - 759s 21s/step - loss: 0.5183 - accuracy: 0.8397 - val_loss: 7.0962 - val_accuracy: 0.6308\n",
      "Epoch 16/50\n",
      "36/36 [==============================] - 760s 21s/step - loss: 0.5098 - accuracy: 0.8415 - val_loss: 7.7623 - val_accuracy: 0.6094\n",
      "Epoch 17/50\n",
      "36/36 [==============================] - 760s 21s/step - loss: 0.5010 - accuracy: 0.8425 - val_loss: 7.1572 - val_accuracy: 0.6487\n",
      "Epoch 18/50\n",
      "36/36 [==============================] - 759s 21s/step - loss: 0.5037 - accuracy: 0.8476 - val_loss: 7.3486 - val_accuracy: 0.6341\n",
      "Epoch 19/50\n",
      "36/36 [==============================] - 784s 22s/step - loss: 0.4797 - accuracy: 0.8514 - val_loss: 8.0602 - val_accuracy: 0.6094\n",
      "Epoch 20/50\n",
      "36/36 [==============================] - 764s 21s/step - loss: 0.4660 - accuracy: 0.8589 - val_loss: 6.0854 - val_accuracy: 0.6341\n",
      "Epoch 21/50\n",
      "36/36 [==============================] - 766s 21s/step - loss: 0.4405 - accuracy: 0.8623 - val_loss: 7.5092 - val_accuracy: 0.6251\n",
      "Epoch 22/50\n",
      "36/36 [==============================] - 762s 21s/step - loss: 0.4261 - accuracy: 0.8709 - val_loss: 7.0954 - val_accuracy: 0.6319\n",
      "Epoch 23/50\n",
      "36/36 [==============================] - 778s 22s/step - loss: 0.4351 - accuracy: 0.8624 - val_loss: 7.0173 - val_accuracy: 0.6296\n",
      "Epoch 24/50\n",
      "36/36 [==============================] - 763s 21s/step - loss: 0.3994 - accuracy: 0.8701 - val_loss: 6.5773 - val_accuracy: 0.6543\n",
      "Epoch 25/50\n",
      "36/36 [==============================] - 760s 21s/step - loss: 0.4098 - accuracy: 0.8730 - val_loss: 7.2642 - val_accuracy: 0.6554\n",
      "Epoch 26/50\n",
      "36/36 [==============================] - 759s 21s/step - loss: 0.3993 - accuracy: 0.8763 - val_loss: 6.8876 - val_accuracy: 0.6476\n",
      "Epoch 27/50\n",
      "36/36 [==============================] - 758s 21s/step - loss: 0.3925 - accuracy: 0.8776 - val_loss: 7.4062 - val_accuracy: 0.6431\n",
      "Epoch 28/50\n",
      "36/36 [==============================] - 760s 21s/step - loss: 0.4069 - accuracy: 0.8753 - val_loss: 7.0343 - val_accuracy: 0.6487\n",
      "Epoch 29/50\n",
      "36/36 [==============================] - 779s 22s/step - loss: 0.3854 - accuracy: 0.8781 - val_loss: 6.9170 - val_accuracy: 0.6296\n",
      "Epoch 30/50\n",
      "36/36 [==============================] - 772s 21s/step - loss: 0.3557 - accuracy: 0.8873 - val_loss: 7.1309 - val_accuracy: 0.6397\n",
      "Epoch 31/50\n",
      "36/36 [==============================] - 779s 22s/step - loss: 0.3586 - accuracy: 0.8852 - val_loss: 7.5147 - val_accuracy: 0.6240\n",
      "Epoch 32/50\n",
      "36/36 [==============================] - 770s 21s/step - loss: 0.3466 - accuracy: 0.8870 - val_loss: 8.6839 - val_accuracy: 0.6319\n",
      "Epoch 33/50\n",
      "36/36 [==============================] - 763s 21s/step - loss: 0.3654 - accuracy: 0.8840 - val_loss: 7.7832 - val_accuracy: 0.6498\n",
      "Epoch 34/50\n",
      "36/36 [==============================] - 762s 21s/step - loss: 0.3487 - accuracy: 0.8911 - val_loss: 9.0530 - val_accuracy: 0.6274\n",
      "Epoch 35/50\n",
      "36/36 [==============================] - 763s 21s/step - loss: 0.3706 - accuracy: 0.8850 - val_loss: 7.6074 - val_accuracy: 0.6498\n",
      "Epoch 36/50\n",
      "36/36 [==============================] - 761s 21s/step - loss: 0.3335 - accuracy: 0.8958 - val_loss: 8.7350 - val_accuracy: 0.6566\n",
      "Epoch 37/50\n",
      "36/36 [==============================] - 758s 21s/step - loss: 0.3284 - accuracy: 0.8955 - val_loss: 8.7715 - val_accuracy: 0.6319\n",
      "Epoch 38/50\n",
      "36/36 [==============================] - 765s 21s/step - loss: 0.3316 - accuracy: 0.8939 - val_loss: 9.0601 - val_accuracy: 0.6330\n",
      "Epoch 39/50\n",
      "36/36 [==============================] - 759s 21s/step - loss: 0.3256 - accuracy: 0.8969 - val_loss: 9.7266 - val_accuracy: 0.6364\n",
      "Epoch 40/50\n",
      "36/36 [==============================] - 790s 22s/step - loss: 0.3259 - accuracy: 0.8983 - val_loss: 8.8976 - val_accuracy: 0.6364\n",
      "Epoch 41/50\n",
      "36/36 [==============================] - 763s 21s/step - loss: 0.3396 - accuracy: 0.8908 - val_loss: 6.4544 - val_accuracy: 0.6330\n",
      "Epoch 42/50\n",
      "36/36 [==============================] - 761s 21s/step - loss: 0.3093 - accuracy: 0.9008 - val_loss: 7.2884 - val_accuracy: 0.6655\n",
      "Epoch 43/50\n",
      "36/36 [==============================] - 801s 22s/step - loss: 0.3100 - accuracy: 0.9019 - val_loss: 8.5876 - val_accuracy: 0.6543\n",
      "Epoch 44/50\n",
      "36/36 [==============================] - 765s 21s/step - loss: 0.3138 - accuracy: 0.9013 - val_loss: 9.6880 - val_accuracy: 0.6510\n",
      "Epoch 45/50\n",
      "36/36 [==============================] - 766s 21s/step - loss: 0.3116 - accuracy: 0.9021 - val_loss: 8.3983 - val_accuracy: 0.6453\n",
      "Epoch 46/50\n",
      "36/36 [==============================] - 762s 21s/step - loss: 0.3013 - accuracy: 0.9029 - val_loss: 7.7801 - val_accuracy: 0.6364\n",
      "Epoch 47/50\n",
      "36/36 [==============================] - 763s 21s/step - loss: 0.3208 - accuracy: 0.8981 - val_loss: 7.9116 - val_accuracy: 0.6420\n",
      "Epoch 48/50\n",
      "36/36 [==============================] - 760s 21s/step - loss: 0.3067 - accuracy: 0.9028 - val_loss: 8.6119 - val_accuracy: 0.6431\n",
      "Epoch 49/50\n",
      "36/36 [==============================] - 762s 21s/step - loss: 0.3024 - accuracy: 0.9065 - val_loss: 7.7867 - val_accuracy: 0.6532\n",
      "Epoch 50/50\n",
      "36/36 [==============================] - 760s 21s/step - loss: 0.3250 - accuracy: 0.9040 - val_loss: 7.8877 - val_accuracy: 0.6364\n"
     ]
    }
   ],
   "source": [
    "\n",
    "myModel = model.fit(train_generator,epochs = epochs_num,validation_data = valid_generator)\n",
    "\n",
    "model.save('VGG19-50-epochs.h5')"
   ]
  },
  {
   "cell_type": "markdown",
   "metadata": {},
   "source": [
    "### Visualization"
   ]
  },
  {
   "cell_type": "code",
   "execution_count": 13,
   "metadata": {},
   "outputs": [
    {
     "data": {
      "text/plain": [
       "Text(0.5, 1.0, 'Accuracy')"
      ]
     },
     "execution_count": 13,
     "metadata": {},
     "output_type": "execute_result"
    },
    {
     "data": {
      "image/png": "[encoded data removed]",
      "text/plain": [
       "<Figure size 640x480 with 1 Axes>"
      ]
     },
     "metadata": {},
     "output_type": "display_data"
    }
   ],
   "source": [
    "# Accuracy----------\n",
    "import matplotlib.pyplot as plt\n",
    "\n",
    "plt.plot(myModel.history['accuracy'])\n",
    "plt.plot(myModel.history['val_accuracy'])\n",
    "plt.legend(['training','validation'])\n",
    "plt.title(\"Accuracy\")"
   ]
  },
  {
   "cell_type": "code",
   "execution_count": 14,
   "metadata": {},
   "outputs": [
    {
     "data": {
      "text/plain": [
       "Text(0.5, 1.0, 'Loss')"
      ]
     },
     "execution_count": 14,
     "metadata": {},
     "output_type": "execute_result"
    },
    {
     "data": {
      "image/png": "[encoded data removed]",
      "text/plain": [
       "<Figure size 640x480 with 1 Axes>"
      ]
     },
     "metadata": {},
     "output_type": "display_data"
    }
   ],
   "source": [
    "# LOST-------------\n",
    "plt.plot(myModel.history['loss'])\n",
    "plt.plot(myModel.history['val_loss'])\n",
    "plt.legend(['training','validation'])\n",
    "plt.title(\"Loss\")"
   ]
  },
  {
   "cell_type": "markdown",
   "metadata": {},
   "source": [
    "### Test"
   ]
  },
  {
   "cell_type": "code",
   "execution_count": 15,
   "metadata": {},
   "outputs": [
    {
     "name": "stdout",
     "output_type": "stream",
     "text": [
      "5/5 - 98s - loss: 9.0187 - accuracy: 0.6139 - 98s/epoch - 20s/step\n",
      "\n",
      "Test Loss: 9.018716812133789\n",
      "\n",
      "Test accuracy: 0.6139169335365295\n"
     ]
    }
   ],
   "source": [
    "# TEST-----------------------------------------------------\n",
    "test_loss, test_acc = model.evaluate(test_generator, verbose=2)\n",
    "print('\\nTest Loss:', test_loss)\n",
    "print('\\nTest accuracy:', test_acc)"
   ]
  },
  {
   "cell_type": "code",
   "execution_count": 16,
   "metadata": {},
   "outputs": [
    {
     "name": "stdout",
     "output_type": "stream",
     "text": [
      "Keras weights file (<HDF5 file \"variables.h5\" (mode r+)>) saving:\n",
      "...layers\\conv2d\n",
      "......vars\n",
      ".........0\n",
      ".........1\n",
      "...layers\\conv2d_1\n",
      "......vars\n",
      ".........0\n",
      ".........1\n",
      "...layers\\conv2d_10\n",
      "......vars\n",
      ".........0\n",
      ".........1\n",
      "...layers\\conv2d_11\n",
      "......vars\n",
      ".........0\n",
      ".........1\n",
      "...layers\\conv2d_12\n",
      "......vars\n",
      ".........0\n",
      ".........1\n",
      "...layers\\conv2d_13\n",
      "......vars\n",
      ".........0\n",
      ".........1\n",
      "...layers\\conv2d_14\n",
      "......vars\n",
      ".........0\n",
      ".........1\n",
      "...layers\\conv2d_15\n",
      "......vars\n",
      ".........0\n",
      ".........1\n",
      "...layers\\conv2d_2\n",
      "......vars\n",
      ".........0\n",
      ".........1\n",
      "...layers\\conv2d_3\n",
      "......vars\n",
      ".........0\n",
      ".........1\n",
      "...layers\\conv2d_4\n",
      "......vars\n",
      ".........0\n",
      ".........1\n",
      "...layers\\conv2d_5\n",
      "......vars\n",
      ".........0\n",
      ".........1\n",
      "...layers\\conv2d_6\n",
      "......vars\n",
      ".........0\n",
      ".........1\n",
      "...layers\\conv2d_7\n",
      "......vars\n",
      ".........0\n",
      ".........1\n",
      "...layers\\conv2d_8\n",
      "......vars\n",
      ".........0\n",
      ".........1\n",
      "...layers\\conv2d_9\n",
      "......vars\n",
      ".........0\n",
      ".........1\n",
      "...layers\\dense\n",
      "......vars\n",
      ".........0\n",
      ".........1\n",
      "...layers\\dense_1\n",
      "......vars\n",
      ".........0\n",
      ".........1\n",
      "...layers\\dense_2\n",
      "......vars\n",
      ".........0\n",
      ".........1\n",
      "...layers\\dropout\n",
      "......vars\n",
      "...layers\\dropout_1\n",
      "......vars\n",
      "...layers\\flatten\n",
      "......vars\n",
      "...layers\\input_layer\n",
      "......vars\n",
      "...layers\\max_pooling2d\n",
      "......vars\n",
      "...layers\\max_pooling2d_1\n",
      "......vars\n",
      "...layers\\max_pooling2d_2\n",
      "......vars\n",
      "...layers\\max_pooling2d_3\n",
      "......vars\n",
      "...layers\\max_pooling2d_4\n",
      "......vars\n",
      "...metrics\\mean\n",
      "......vars\n",
      ".........0\n",
      ".........1\n",
      "...metrics\\mean_metric_wrapper\n",
      "......vars\n",
      ".........0\n",
      ".........1\n",
      "...optimizer\n",
      "......vars\n",
      ".........0\n",
      ".........1\n",
      ".........10\n",
      ".........11\n",
      ".........12\n",
      ".........2\n",
      ".........3\n",
      ".........4\n",
      ".........5\n",
      ".........6\n",
      ".........7\n",
      ".........8\n",
      ".........9\n",
      "...vars\n",
      "Keras model archive saving:\n",
      "File Name                                             Modified             Size\n",
      "config.json                                    2022-11-24 08:12:51        14304\n",
      "metadata.json                                  2022-11-24 08:12:51           64\n",
      "variables.h5                                   2022-11-24 08:12:54    394826008\n"
     ]
    }
   ],
   "source": [
    "import pickle\n",
    "\n",
    "# save the model to disk\n",
    "filename = 'VGG19.sav'\n",
    "pickle.dump(model, open(filename, 'wb'))"
   ]
  },
  {
   "cell_type": "code",
   "execution_count": 17,
   "metadata": {},
   "outputs": [
    {
     "name": "stdout",
     "output_type": "stream",
     "text": [
      "Saved model to drive\n"
     ]
    }
   ],
   "source": [
    "model_json = model.to_json()\n",
    "\n",
    "with open(\"VGG19-50-epocs-model.json\", \"w\") as json_file:\n",
    "    json_file.write(model_json)\n",
    "# serialize weights to HDF5\n",
    "model.save_weights(\"VGG19-50-epocs-model_weights.h5\")\n",
    "print(\"Saved model to drive\")"
   ]
  }
 ],
 "metadata": {
  "kernelspec": {
   "display_name": "Python 3.11.0 ('env': venv)",
   "language": "python",
   "name": "python3"
  },
  "language_info": {
   "codemirror_mode": {
    "name": "ipython",
    "version": 3
   },
   "file_extension": ".py",
   "mimetype": "text/x-python",
   "name": "python",
   "nbconvert_exporter": "python",
   "pygments_lexer": "ipython3",
   "version": "3.10.8"
  },
  "orig_nbformat": 4,
  "vscode": {
   "interpreter": {
    "hash": "27138322cec6f6dda2753f2bfabe07a180659987d479e84fec950667ec68d807"
   }
  }
 },
 "nbformat": 4,
 "nbformat_minor": 2
}
